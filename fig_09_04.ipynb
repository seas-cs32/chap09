{
 "cells": [
  {
   "cell_type": "markdown",
   "metadata": {
    "id": "DETuZ_GNrJDH"
   },
   "source": [
    "Source code for the graphs in Figure 9.4 (in _Computational Thinking and Problem Solving_ by Michael D. Smith. The graphs illustrate the results of the brute-force (BF) and Rabin-Karp (RK) string matching experiments described in Chapter 9. The test results are produced by `chap09/cmp_strmatch.py`.\n",
    "\n",
    "This notebook's code was written by Michael D. Smith with help from ChatGPT 4o (November 2024)."
   ]
  },
  {
   "cell_type": "code",
   "execution_count": 1,
   "metadata": {
    "id": "jvi52z1GwEY3"
   },
   "outputs": [],
   "source": [
    "import matplotlib.pyplot as plt\n",
    "\n",
    "# x-axis indices (labels in kilobytes)\n",
    "x_for_bars = [0, 1, 2, 3, 4, 5, 6]\n",
    "x_for_lines = [327, 654, 1308, 2616, 5231, 10462, 20926]\n",
    "x_labels = ['327', '654', '1308', '2616', '5231', '10462', '20926']\n",
    "\n",
    "# In the FIRST TEST, the length of the pattern string (p) is much much\n",
    "# less than the length of the text string (t).\n",
    "y_bf_test1 = [0.065, 0.142, 0.255, 0.503, 1.064, 3.707, 5.858]\n",
    "y_rk_test1 = [0.156, 0.289, 0.570, 1.125, 2.511, 4.611, 9.736]\n",
    "\n",
    "# In the SECOND TEST, the length of the pattern string (p) is only slightly\n",
    "# shorter than the length of the text string (t). It's about a quarter of\n",
    "# the length. Note that I didn't wait for the 20926 results.\n",
    "y_bf_test2 = [0.785, 3.199, 13.314, 53.569, 219.776, 890.305, 0]\n",
    "y_rk_test2 = [0.136, 0.289, 0.551, 1.114, 2.353, 4.560, 0]"
   ]
  },
  {
   "cell_type": "markdown",
   "metadata": {
    "id": "49AIkOnUxyn-"
   },
   "source": [
    "I decided that line plots best illustrated the points I wanted to make with the results. The next code block produces the two line plots."
   ]
  },
  {
   "cell_type": "code",
   "execution_count": null,
   "metadata": {
    "colab": {
     "base_uri": "https://localhost:8080/",
     "height": 487
    },
    "id": "DrRHhGqdyEsu",
    "outputId": "0dabb71b-0ab9-427d-eac7-305f9fd1f430"
   },
   "outputs": [],
   "source": [
    "# Plot the FIRST TEST as a line graph so that it is\n",
    "# easy to see the O(n) growth for both algorithms.\n",
    "\n",
    "plt.figure(figsize=(10, 5))\n",
    "plt.plot(x_for_lines, y_bf_test1, marker='d', color='black', linestyle='-', label='Brute Force')\n",
    "plt.plot(x_for_lines, y_rk_test1, marker='s', color='black', linestyle='--', label='Rabin-Karp')\n",
    "plt.xlabel(\"Text length (kilobytes)\")\n",
    "plt.ylabel(\"Time (secs)\")\n",
    "plt.title(\"Algorithm runtimes when len(p) < len(t)\")\n",
    "plt.legend()\n",
    "plt.grid(True)\n",
    "plt.show()"
   ]
  },
  {
   "cell_type": "code",
   "execution_count": null,
   "metadata": {
    "colab": {
     "base_uri": "https://localhost:8080/",
     "height": 487
    },
    "id": "pfN3Tdn1qpOw",
    "outputId": "1fae7e00-04a1-425b-e2ac-a761c934fabc"
   },
   "outputs": [],
   "source": [
    "# Plot the SECOND TEST in a line graph so that it is\n",
    "# easy to see the O(n) and O(n^2) growth.\n",
    "\n",
    "plt.figure(figsize=(10, 5))\n",
    "plt.plot(x_for_lines[:6], y_bf_test2[:6], marker='d', color='black', linestyle='-', label='Brute Force')\n",
    "plt.plot(x_for_lines[:6], y_rk_test2[:6], marker='s', color='black', linestyle='--', label='Rabin-Karp')\n",
    "plt.xlabel(\"Text length (kilobytes)\")\n",
    "plt.ylabel(\"Time (secs)\")\n",
    "plt.title(\"Algorithm runtimes when len(p) < len(t)\")\n",
    "plt.legend()\n",
    "plt.grid(True)\n",
    "plt.show()"
   ]
  },
  {
   "cell_type": "markdown",
   "metadata": {
    "id": "QTytPBuTxX9P"
   },
   "source": [
    "## Extra code\n",
    "\n",
    "I created code to plot the results as bar charts, but these weren't very informative or helpful. They are not used in the book."
   ]
  },
  {
   "cell_type": "code",
   "execution_count": null,
   "metadata": {
    "colab": {
     "base_uri": "https://localhost:8080/",
     "height": 957
    },
    "id": "gPldCPmZia0J",
    "outputId": "515a4100-08d9-433f-9dfa-a4cec24293b1"
   },
   "outputs": [],
   "source": [
    "# Create bar charts of the results\n",
    "\n",
    "# Plot Test 1 data: grayscale; y-axis max set to 20\n",
    "plt.figure(figsize=(10, 5))\n",
    "bars_bf = plt.bar(x_for_bars, y_bf_test1,\n",
    "                  width=0.4, label='Brute Force', color='lightgray', align='center')\n",
    "bars_rk = plt.bar([i + 0.4 for i in x_for_bars], y_rk_test1,\n",
    "                  width=0.4, label='Rabin-Karp', color='dimgray', align='center')\n",
    "plt.xlabel(\"Text length (kilobytes)\")\n",
    "plt.ylabel(\"Time (secs)\")\n",
    "plt.ylim(0, 20)  # Set y-axis maximum to 20\n",
    "plt.title(\"Algorithm runtimes when len(p) << len(t)\")\n",
    "plt.xticks([i + 0.2 for i in x_for_bars], x_labels)  # Adjust x-ticks for alignment\n",
    "plt.legend()\n",
    "plt.grid(True, axis='y', color='lightgray')\n",
    "\n",
    "plt.show()\n",
    "\n",
    "# Plot Test 2 data: grayscale; y-axis max set to 20; label bars when time\n",
    "# exceeds the y-axis max.\n",
    "plt.figure(figsize=(10, 5))\n",
    "bars_bf = plt.bar(x_for_bars, y_bf_test2,\n",
    "                  width=0.4, label='Brute Force', color='lightgray', align='center')\n",
    "bars_rk = plt.bar([i + 0.4 for i in x_for_bars], y_rk_test2,\n",
    "                  width=0.4, label='Rabin-Karp', color='dimgray', align='center')\n",
    "plt.xlabel(\"Text length (kilobytes)\")\n",
    "plt.ylabel(\"Time (secs)\")\n",
    "plt.ylim(0, 20)  # Set y-axis maximum to 20\n",
    "plt.title(\"Algorithm runtimes when len(p) < len(t)\")\n",
    "plt.xticks([i + 0.2 for i in x_for_bars], x_labels)  # Adjust x-ticks for alignment\n",
    "plt.legend()\n",
    "plt.grid(True, axis='y', color='lightgray')\n",
    "\n",
    "# Add text labels for BF runtimes exceeding the y-axis limit\n",
    "for bar in bars_bf:\n",
    "    if bar.get_height() > 20:\n",
    "        plt.text(bar.get_x() + bar.get_width() / 2, 19, f'{bar.get_height():.2f}', ha='center', va='bottom')\n",
    "\n",
    "# Add text label for tests that didn't complete\n",
    "plt.text(bars_bf[6].get_x() + bars_bf[6].get_width() / 2, 1, f'X', ha='center', va='bottom')\n",
    "plt.text(bars_rk[6].get_x() + bars_rk[6].get_width() / 2, 1, f'X', ha='center', va='bottom')\n",
    "\n",
    "plt.show()"
   ]
  }
 ],
 "metadata": {
  "colab": {
   "provenance": []
  },
  "kernelspec": {
   "display_name": "Python 3",
   "name": "python3"
  },
  "language_info": {
   "name": "python",
   "version": "3.9.6"
  }
 },
 "nbformat": 4,
 "nbformat_minor": 0
}
